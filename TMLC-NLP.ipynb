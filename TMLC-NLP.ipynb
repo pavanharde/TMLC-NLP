{
 "cells": [
  {
   "cell_type": "code",
   "execution_count": 1,
   "id": "e85c1928",
   "metadata": {},
   "outputs": [],
   "source": [
    "# Importing useful libariries\n",
    "import pandas as pd\n",
    "import numpy as np\n",
    "import seaborn as sns\n",
    "import matplotlib.pyplot as plt\n",
    "%matplotlib inline\n",
    "import warnings\n",
    "warnings.filterwarnings(\"ignore\")\n",
    "\n",
    "\n",
    "from sklearn.model_selection import train_test_split\n",
    "from sklearn.linear_model import LogisticRegression\n",
    "from sklearn.ensemble import GradientBoostingClassifier\n",
    "from sklearn.metrics import log_loss, mean_squared_error, accuracy_score\n",
    "import math\n",
    "import os\n",
    "import xgboost as xgb\n",
    "from time import time\n",
    "\n",
    "from sklearn.preprocessing import OneHotEncoder\n"
   ]
  },
  {
   "cell_type": "code",
   "execution_count": 2,
   "id": "c9c0e7cf",
   "metadata": {},
   "outputs": [],
   "source": [
    "# Reading given csv file\n",
    "df = pd.read_csv(\"ecommerceDataset.csv\", header=None, names=[\"Types\",\"Text\"])"
   ]
  },
  {
   "cell_type": "code",
   "execution_count": 3,
   "id": "a5841163",
   "metadata": {},
   "outputs": [
    {
     "data": {
      "text/html": [
       "<div>\n",
       "<style scoped>\n",
       "    .dataframe tbody tr th:only-of-type {\n",
       "        vertical-align: middle;\n",
       "    }\n",
       "\n",
       "    .dataframe tbody tr th {\n",
       "        vertical-align: top;\n",
       "    }\n",
       "\n",
       "    .dataframe thead th {\n",
       "        text-align: right;\n",
       "    }\n",
       "</style>\n",
       "<table border=\"1\" class=\"dataframe\">\n",
       "  <thead>\n",
       "    <tr style=\"text-align: right;\">\n",
       "      <th></th>\n",
       "      <th>Types</th>\n",
       "      <th>Text</th>\n",
       "    </tr>\n",
       "  </thead>\n",
       "  <tbody>\n",
       "    <tr>\n",
       "      <th>0</th>\n",
       "      <td>Household</td>\n",
       "      <td>Paper Plane Design Framed Wall Hanging Motivat...</td>\n",
       "    </tr>\n",
       "    <tr>\n",
       "      <th>1</th>\n",
       "      <td>Household</td>\n",
       "      <td>SAF 'Floral' Framed Painting (Wood, 30 inch x ...</td>\n",
       "    </tr>\n",
       "    <tr>\n",
       "      <th>2</th>\n",
       "      <td>Household</td>\n",
       "      <td>SAF 'UV Textured Modern Art Print Framed' Pain...</td>\n",
       "    </tr>\n",
       "    <tr>\n",
       "      <th>3</th>\n",
       "      <td>Household</td>\n",
       "      <td>SAF Flower Print Framed Painting (Synthetic, 1...</td>\n",
       "    </tr>\n",
       "    <tr>\n",
       "      <th>4</th>\n",
       "      <td>Household</td>\n",
       "      <td>Incredible Gifts India Wooden Happy Birthday U...</td>\n",
       "    </tr>\n",
       "  </tbody>\n",
       "</table>\n",
       "</div>"
      ],
      "text/plain": [
       "       Types                                               Text\n",
       "0  Household  Paper Plane Design Framed Wall Hanging Motivat...\n",
       "1  Household  SAF 'Floral' Framed Painting (Wood, 30 inch x ...\n",
       "2  Household  SAF 'UV Textured Modern Art Print Framed' Pain...\n",
       "3  Household  SAF Flower Print Framed Painting (Synthetic, 1...\n",
       "4  Household  Incredible Gifts India Wooden Happy Birthday U..."
      ]
     },
     "execution_count": 3,
     "metadata": {},
     "output_type": "execute_result"
    }
   ],
   "source": [
    "# Looking at first 5 rows of the dataframe\n",
    "df.head()"
   ]
  },
  {
   "cell_type": "code",
   "execution_count": 4,
   "id": "121ca732",
   "metadata": {},
   "outputs": [
    {
     "data": {
      "text/plain": [
       "Household                 19313\n",
       "Books                     11820\n",
       "Electronics               10621\n",
       "Clothing & Accessories     8671\n",
       "Name: Types, dtype: int64"
      ]
     },
     "execution_count": 4,
     "metadata": {},
     "output_type": "execute_result"
    }
   ],
   "source": [
    "# Prininting target types and their distributions\n",
    "df[\"Types\"].value_counts()"
   ]
  },
  {
   "cell_type": "code",
   "execution_count": 5,
   "id": "58044911",
   "metadata": {},
   "outputs": [
    {
     "name": "stdout",
     "output_type": "stream",
     "text": [
      "<class 'pandas.core.frame.DataFrame'>\n",
      "RangeIndex: 50425 entries, 0 to 50424\n",
      "Data columns (total 2 columns):\n",
      " #   Column  Non-Null Count  Dtype \n",
      "---  ------  --------------  ----- \n",
      " 0   Types   50425 non-null  object\n",
      " 1   Text    50424 non-null  object\n",
      "dtypes: object(2)\n",
      "memory usage: 788.0+ KB\n"
     ]
    }
   ],
   "source": [
    "# Looking for missing values\n",
    "df.info()"
   ]
  },
  {
   "cell_type": "code",
   "execution_count": 6,
   "id": "cd082526",
   "metadata": {},
   "outputs": [],
   "source": [
    "# Dropping missing value as there is only one row having missing value\n",
    "df.dropna(inplace=True)"
   ]
  },
  {
   "cell_type": "code",
   "execution_count": 7,
   "id": "ec67a81f",
   "metadata": {},
   "outputs": [
    {
     "name": "stdout",
     "output_type": "stream",
     "text": [
      "<class 'pandas.core.frame.DataFrame'>\n",
      "Int64Index: 50424 entries, 0 to 50424\n",
      "Data columns (total 2 columns):\n",
      " #   Column  Non-Null Count  Dtype \n",
      "---  ------  --------------  ----- \n",
      " 0   Types   50424 non-null  object\n",
      " 1   Text    50424 non-null  object\n",
      "dtypes: object(2)\n",
      "memory usage: 1.2+ MB\n"
     ]
    }
   ],
   "source": [
    "# Cross-checking\n",
    "df.info()"
   ]
  },
  {
   "cell_type": "code",
   "execution_count": 8,
   "id": "328d0647",
   "metadata": {},
   "outputs": [
    {
     "data": {
      "text/plain": [
       "'Paper Plane Design Framed Wall Hanging Motivational Office Decor Art Prints (8.7 X 8.7 inch) - Set of 4 Painting made up in synthetic frame with uv textured print which gives multi effects and attracts towards it. This is an special series of paintings which makes your wall very beautiful and gives a royal touch. This painting is ready to hang, you would be proud to possess this unique painting that is a niche apart. We use only the most modern and efficient printing technology on our prints, with only the and inks and precision epson, roland and hp printers. This innovative hd printing technique results in durable and spectacular looking prints of the highest that last a lifetime. We print solely with top-notch 100% inks, to achieve brilliant and true colours. Due to their high level of uv resistance, our prints retain their beautiful colours for many years. Add colour and style to your living space with this digitally printed painting. Some are for pleasure and some for eternal bliss.so bring home this elegant print that is lushed with rich colors that makes it nothing but sheer elegance to be to your friends and family.it would be treasured forever by whoever your lucky recipient is. Liven up your place with these intriguing paintings that are high definition hd graphic digital prints for home, office or any room.'"
      ]
     },
     "execution_count": 8,
     "metadata": {},
     "output_type": "execute_result"
    }
   ],
   "source": [
    "df.Text[0]"
   ]
  },
  {
   "cell_type": "markdown",
   "id": "6fcc4789",
   "metadata": {},
   "source": [
    "# Data Preprocessing"
   ]
  },
  {
   "cell_type": "code",
   "execution_count": 9,
   "id": "92a762d4",
   "metadata": {},
   "outputs": [
    {
     "name": "stderr",
     "output_type": "stream",
     "text": [
      "[nltk_data] Downloading package wordnet to\n",
      "[nltk_data]     C:\\Users\\HP\\AppData\\Roaming\\nltk_data...\n",
      "[nltk_data]   Package wordnet is already up-to-date!\n",
      "[nltk_data] Downloading package stopwords to\n",
      "[nltk_data]     C:\\Users\\HP\\AppData\\Roaming\\nltk_data...\n",
      "[nltk_data]   Package stopwords is already up-to-date!\n",
      "[nltk_data] Downloading package omw-1.4 to\n",
      "[nltk_data]     C:\\Users\\HP\\AppData\\Roaming\\nltk_data...\n",
      "[nltk_data]   Package omw-1.4 is already up-to-date!\n"
     ]
    }
   ],
   "source": [
    "import re\n",
    "import nltk\n",
    "import numpy as np\n",
    "nltk.download('wordnet')\n",
    "nltk.download('stopwords')\n",
    "nltk.download('omw-1.4')\n",
    "from nltk.corpus import stopwords\n",
    "from nltk.stem import PorterStemmer\n",
    "from nltk.stem import WordNetLemmatizer"
   ]
  },
  {
   "cell_type": "code",
   "execution_count": 10,
   "id": "1d495b48",
   "metadata": {},
   "outputs": [],
   "source": [
    "# Setting stopwords\n",
    "STOPWORDS = set(stopwords.words('english'))\n",
    "STOPWORDS.remove(\"not\")\n",
    "\n",
    "# Function for words like can't, don't ==> can not , do not\n",
    "def expand(text):\n",
    "    expanded_text = []\n",
    "    for word in text:\n",
    "        if re.search(\"n't\", word):\n",
    "            expanded_text.append(word.split(\"n't\")[0])\n",
    "            expanded_text.append(\"not\")\n",
    "        else:\n",
    "            expanded_text.append(word)\n",
    "    return expanded_text"
   ]
  },
  {
   "cell_type": "code",
   "execution_count": 11,
   "id": "939f45f6",
   "metadata": {},
   "outputs": [
    {
     "data": {
      "text/html": [
       "<div>\n",
       "<style scoped>\n",
       "    .dataframe tbody tr th:only-of-type {\n",
       "        vertical-align: middle;\n",
       "    }\n",
       "\n",
       "    .dataframe tbody tr th {\n",
       "        vertical-align: top;\n",
       "    }\n",
       "\n",
       "    .dataframe thead th {\n",
       "        text-align: right;\n",
       "    }\n",
       "</style>\n",
       "<table border=\"1\" class=\"dataframe\">\n",
       "  <thead>\n",
       "    <tr style=\"text-align: right;\">\n",
       "      <th></th>\n",
       "      <th>Types</th>\n",
       "      <th>Text</th>\n",
       "      <th>Clean_text</th>\n",
       "    </tr>\n",
       "  </thead>\n",
       "  <tbody>\n",
       "    <tr>\n",
       "      <th>0</th>\n",
       "      <td>Household</td>\n",
       "      <td>Paper Plane Design Framed Wall Hanging Motivat...</td>\n",
       "      <td>Paper Plane Design Framed Wall Hanging Motivat...</td>\n",
       "    </tr>\n",
       "    <tr>\n",
       "      <th>1</th>\n",
       "      <td>Household</td>\n",
       "      <td>SAF 'Floral' Framed Painting (Wood, 30 inch x ...</td>\n",
       "      <td>SAF 'Floral' Framed Painting Wood  inch x  inc...</td>\n",
       "    </tr>\n",
       "    <tr>\n",
       "      <th>2</th>\n",
       "      <td>Household</td>\n",
       "      <td>SAF 'UV Textured Modern Art Print Framed' Pain...</td>\n",
       "      <td>SAF 'UV Textured Modern Art Print Framed' Pain...</td>\n",
       "    </tr>\n",
       "    <tr>\n",
       "      <th>3</th>\n",
       "      <td>Household</td>\n",
       "      <td>SAF Flower Print Framed Painting (Synthetic, 1...</td>\n",
       "      <td>SAF Flower Print Framed Painting Synthetic  in...</td>\n",
       "    </tr>\n",
       "    <tr>\n",
       "      <th>4</th>\n",
       "      <td>Household</td>\n",
       "      <td>Incredible Gifts India Wooden Happy Birthday U...</td>\n",
       "      <td>Incredible Gifts India Wooden Happy Birthday U...</td>\n",
       "    </tr>\n",
       "  </tbody>\n",
       "</table>\n",
       "</div>"
      ],
      "text/plain": [
       "       Types                                               Text  \\\n",
       "0  Household  Paper Plane Design Framed Wall Hanging Motivat...   \n",
       "1  Household  SAF 'Floral' Framed Painting (Wood, 30 inch x ...   \n",
       "2  Household  SAF 'UV Textured Modern Art Print Framed' Pain...   \n",
       "3  Household  SAF Flower Print Framed Painting (Synthetic, 1...   \n",
       "4  Household  Incredible Gifts India Wooden Happy Birthday U...   \n",
       "\n",
       "                                          Clean_text  \n",
       "0  Paper Plane Design Framed Wall Hanging Motivat...  \n",
       "1  SAF 'Floral' Framed Painting Wood  inch x  inc...  \n",
       "2  SAF 'UV Textured Modern Art Print Framed' Pain...  \n",
       "3  SAF Flower Print Framed Painting Synthetic  in...  \n",
       "4  Incredible Gifts India Wooden Happy Birthday U...  "
      ]
     },
     "execution_count": 11,
     "metadata": {},
     "output_type": "execute_result"
    }
   ],
   "source": [
    "#removing special characters\n",
    "df['Clean_text'] = df['Text'].str.replace(\"[^a-zA-Z' ]\",\"\")\n",
    "df.head()"
   ]
  },
  {
   "cell_type": "code",
   "execution_count": 12,
   "id": "236653ad",
   "metadata": {},
   "outputs": [
    {
     "data": {
      "text/html": [
       "<div>\n",
       "<style scoped>\n",
       "    .dataframe tbody tr th:only-of-type {\n",
       "        vertical-align: middle;\n",
       "    }\n",
       "\n",
       "    .dataframe tbody tr th {\n",
       "        vertical-align: top;\n",
       "    }\n",
       "\n",
       "    .dataframe thead th {\n",
       "        text-align: right;\n",
       "    }\n",
       "</style>\n",
       "<table border=\"1\" class=\"dataframe\">\n",
       "  <thead>\n",
       "    <tr style=\"text-align: right;\">\n",
       "      <th></th>\n",
       "      <th>Types</th>\n",
       "      <th>Text</th>\n",
       "      <th>Clean_text</th>\n",
       "    </tr>\n",
       "  </thead>\n",
       "  <tbody>\n",
       "    <tr>\n",
       "      <th>50415</th>\n",
       "      <td>Electronics</td>\n",
       "      <td>TP-Link TL-WN725N 150Mbps Wireless N Nano USB ...</td>\n",
       "      <td>TPLink TLWNN Mbps Wireless N Nano USB Adapter ...</td>\n",
       "    </tr>\n",
       "    <tr>\n",
       "      <th>50416</th>\n",
       "      <td>Electronics</td>\n",
       "      <td>Lenovo Tab4 10 Tablet (10.1 inch,16GB,Wi-Fi + ...</td>\n",
       "      <td>Lenovo Tab  Tablet  inchGBWiFi  G LTE Slate Bl...</td>\n",
       "    </tr>\n",
       "    <tr>\n",
       "      <th>50417</th>\n",
       "      <td>Electronics</td>\n",
       "      <td>SanDisk 128GB Class 10 microSDXC Memory Card w...</td>\n",
       "      <td>SanDisk GB Class  microSDXC Memory Card with A...</td>\n",
       "    </tr>\n",
       "    <tr>\n",
       "      <th>50418</th>\n",
       "      <td>Electronics</td>\n",
       "      <td>Samsung Guru FM Plus (SM-B110E/D, Black) Colou...</td>\n",
       "      <td>Samsung Guru FM Plus SMBED Black ColourBlack  ...</td>\n",
       "    </tr>\n",
       "    <tr>\n",
       "      <th>50419</th>\n",
       "      <td>Electronics</td>\n",
       "      <td>Nokia Lumia 530 (Dual SIM, Grey) Colour:Grey  ...</td>\n",
       "      <td>Nokia Lumia  Dual SIM Grey ColourGrey   Produc...</td>\n",
       "    </tr>\n",
       "    <tr>\n",
       "      <th>50420</th>\n",
       "      <td>Electronics</td>\n",
       "      <td>Strontium MicroSD Class 10 8GB Memory Card (Bl...</td>\n",
       "      <td>Strontium MicroSD Class  GB Memory Card Black ...</td>\n",
       "    </tr>\n",
       "    <tr>\n",
       "      <th>50421</th>\n",
       "      <td>Electronics</td>\n",
       "      <td>CrossBeats Wave Waterproof Bluetooth Wireless ...</td>\n",
       "      <td>CrossBeats Wave Waterproof Bluetooth Wireless ...</td>\n",
       "    </tr>\n",
       "    <tr>\n",
       "      <th>50422</th>\n",
       "      <td>Electronics</td>\n",
       "      <td>Karbonn Titanium Wind W4 (White) Karbonn Titan...</td>\n",
       "      <td>Karbonn Titanium Wind W White Karbonn Titanium...</td>\n",
       "    </tr>\n",
       "    <tr>\n",
       "      <th>50423</th>\n",
       "      <td>Electronics</td>\n",
       "      <td>Samsung Guru FM Plus (SM-B110E/D, Black) Colou...</td>\n",
       "      <td>Samsung Guru FM Plus SMBED Black ColourBlack  ...</td>\n",
       "    </tr>\n",
       "    <tr>\n",
       "      <th>50424</th>\n",
       "      <td>Electronics</td>\n",
       "      <td>Micromax Canvas Win W121 (White)</td>\n",
       "      <td>Micromax Canvas Win W White</td>\n",
       "    </tr>\n",
       "  </tbody>\n",
       "</table>\n",
       "</div>"
      ],
      "text/plain": [
       "             Types                                               Text  \\\n",
       "50415  Electronics  TP-Link TL-WN725N 150Mbps Wireless N Nano USB ...   \n",
       "50416  Electronics  Lenovo Tab4 10 Tablet (10.1 inch,16GB,Wi-Fi + ...   \n",
       "50417  Electronics  SanDisk 128GB Class 10 microSDXC Memory Card w...   \n",
       "50418  Electronics  Samsung Guru FM Plus (SM-B110E/D, Black) Colou...   \n",
       "50419  Electronics  Nokia Lumia 530 (Dual SIM, Grey) Colour:Grey  ...   \n",
       "50420  Electronics  Strontium MicroSD Class 10 8GB Memory Card (Bl...   \n",
       "50421  Electronics  CrossBeats Wave Waterproof Bluetooth Wireless ...   \n",
       "50422  Electronics  Karbonn Titanium Wind W4 (White) Karbonn Titan...   \n",
       "50423  Electronics  Samsung Guru FM Plus (SM-B110E/D, Black) Colou...   \n",
       "50424  Electronics                   Micromax Canvas Win W121 (White)   \n",
       "\n",
       "                                              Clean_text  \n",
       "50415  TPLink TLWNN Mbps Wireless N Nano USB Adapter ...  \n",
       "50416  Lenovo Tab  Tablet  inchGBWiFi  G LTE Slate Bl...  \n",
       "50417  SanDisk GB Class  microSDXC Memory Card with A...  \n",
       "50418  Samsung Guru FM Plus SMBED Black ColourBlack  ...  \n",
       "50419  Nokia Lumia  Dual SIM Grey ColourGrey   Produc...  \n",
       "50420  Strontium MicroSD Class  GB Memory Card Black ...  \n",
       "50421  CrossBeats Wave Waterproof Bluetooth Wireless ...  \n",
       "50422  Karbonn Titanium Wind W White Karbonn Titanium...  \n",
       "50423  Samsung Guru FM Plus SMBED Black ColourBlack  ...  \n",
       "50424                        Micromax Canvas Win W White  "
      ]
     },
     "execution_count": 12,
     "metadata": {},
     "output_type": "execute_result"
    }
   ],
   "source": [
    "df.tail(10)"
   ]
  },
  {
   "cell_type": "code",
   "execution_count": 13,
   "id": "4d88a242",
   "metadata": {},
   "outputs": [],
   "source": [
    "types = df.Types.value_counts().index.tolist()"
   ]
  },
  {
   "cell_type": "code",
   "execution_count": 14,
   "id": "3ae3d813",
   "metadata": {},
   "outputs": [
    {
     "name": "stdout",
     "output_type": "stream",
     "text": [
      "       Types                                               Text  \\\n",
      "0  Household  Paper Plane Design Framed Wall Hanging Motivat...   \n",
      "1  Household  SAF 'Floral' Framed Painting (Wood, 30 inch x ...   \n",
      "2  Household  SAF 'UV Textured Modern Art Print Framed' Pain...   \n",
      "3  Household  SAF Flower Print Framed Painting (Synthetic, 1...   \n",
      "\n",
      "                                          Clean_text  \n",
      "0  Paper Plane Design Framed Wall Hanging Motivat...  \n",
      "1  SAF 'Floral' Framed Painting Wood  inch x  inc...  \n",
      "2  SAF 'UV Textured Modern Art Print Framed' Pain...  \n",
      "3  SAF Flower Print Framed Painting Synthetic  in...   \n",
      "\n",
      "       Types                                               Text  \\\n",
      "19313  Books  Inner Engineering: A Yogi's Guide to Joy About...   \n",
      "19314  Books       Muslims and Missionaries in Pre-Mutiny India   \n",
      "19315  Books  The PCOD - Thyroid Book - Compiled From Women ...   \n",
      "19316  Books  The Monk Who Sold His Ferrari Review Everyone ...   \n",
      "\n",
      "                                              Clean_text  \n",
      "19313  Inner Engineering A Yogi's Guide to Joy About ...  \n",
      "19314        Muslims and Missionaries in PreMutiny India  \n",
      "19315  The PCOD  Thyroid Book  Compiled From Women an...  \n",
      "19316  The Monk Who Sold His Ferrari Review Everyone ...   \n",
      "\n",
      "             Types                                               Text  \\\n",
      "39804  Electronics  Dell 19.5V-3.34AMP 65W Laptop Adapter (Without...   \n",
      "39805  Electronics  Bluetooth Dongle USB CSR 4.0 Adapter Receiver ...   \n",
      "39806  Electronics  Wi-Fi Receiver 300Mbps, 2.4GHz, 802.11b/g/n US...   \n",
      "39807  Electronics  SanDisk 64GB Class 10 microSDXC Memory Card wi...   \n",
      "\n",
      "                                              Clean_text  \n",
      "39804  Dell VAMP W Laptop Adapter Without power Cord ...  \n",
      "39805  Bluetooth Dongle USB CSR  Adapter Receiver Tra...  \n",
      "39806  WiFi Receiver Mbps GHz bgn USB  Wireless Mini ...  \n",
      "39807  SanDisk GB Class  microSDXC Memory Card with A...   \n",
      "\n",
      "                        Types  \\\n",
      "31133  Clothing & Accessories   \n",
      "31134  Clothing & Accessories   \n",
      "31135  Clothing & Accessories   \n",
      "31136  Clothing & Accessories   \n",
      "\n",
      "                                                    Text  \\\n",
      "31133  Woopower 36M Pink for 024M Baby Trouser Top Se...   \n",
      "31134  Amour Butterfly Design Sunglasses For Girls 6+...   \n",
      "31135  Vaenait Baby 024M Baby Girls Rashguard Swimwea...   \n",
      "31136  Amour Butterfly Design Sunglasses For Girls 6+...   \n",
      "\n",
      "                                              Clean_text  \n",
      "31133  Woopower M Pink for M Baby Trouser Top SetsPcs...  \n",
      "31134  Amour Butterfly Design Sunglasses For Girls  Y...  \n",
      "31135  Vaenait Baby M Baby Girls Rashguard Swimwear O...  \n",
      "31136  Amour Butterfly Design Sunglasses For Girls  Y...   \n",
      "\n"
     ]
    }
   ],
   "source": [
    "# Observing text rows from each type\n",
    "for i in types:\n",
    "    print(df[df[\"Types\"]==i].head(4),\"\\n\")"
   ]
  },
  {
   "cell_type": "code",
   "execution_count": 15,
   "id": "2c3e994a",
   "metadata": {},
   "outputs": [
    {
     "data": {
      "text/html": [
       "<div>\n",
       "<style scoped>\n",
       "    .dataframe tbody tr th:only-of-type {\n",
       "        vertical-align: middle;\n",
       "    }\n",
       "\n",
       "    .dataframe tbody tr th {\n",
       "        vertical-align: top;\n",
       "    }\n",
       "\n",
       "    .dataframe thead th {\n",
       "        text-align: right;\n",
       "    }\n",
       "</style>\n",
       "<table border=\"1\" class=\"dataframe\">\n",
       "  <thead>\n",
       "    <tr style=\"text-align: right;\">\n",
       "      <th></th>\n",
       "      <th>Types</th>\n",
       "      <th>Text</th>\n",
       "      <th>Clean_text</th>\n",
       "    </tr>\n",
       "  </thead>\n",
       "  <tbody>\n",
       "    <tr>\n",
       "      <th>0</th>\n",
       "      <td>Household</td>\n",
       "      <td>Paper Plane Design Framed Wall Hanging Motivat...</td>\n",
       "      <td>Paper Plane Design Framed Wall Hanging Motivat...</td>\n",
       "    </tr>\n",
       "    <tr>\n",
       "      <th>1</th>\n",
       "      <td>Household</td>\n",
       "      <td>SAF 'Floral' Framed Painting (Wood, 30 inch x ...</td>\n",
       "      <td>SAF 'Floral' Framed Painting Wood  inch x  inc...</td>\n",
       "    </tr>\n",
       "    <tr>\n",
       "      <th>2</th>\n",
       "      <td>Household</td>\n",
       "      <td>SAF 'UV Textured Modern Art Print Framed' Pain...</td>\n",
       "      <td>SAF 'UV Textured Modern Art Print Framed' Pain...</td>\n",
       "    </tr>\n",
       "    <tr>\n",
       "      <th>3</th>\n",
       "      <td>Household</td>\n",
       "      <td>SAF Flower Print Framed Painting (Synthetic, 1...</td>\n",
       "      <td>SAF Flower Print Framed Painting Synthetic  in...</td>\n",
       "    </tr>\n",
       "    <tr>\n",
       "      <th>4</th>\n",
       "      <td>Household</td>\n",
       "      <td>Incredible Gifts India Wooden Happy Birthday U...</td>\n",
       "      <td>Incredible Gifts India Wooden Happy Birthday U...</td>\n",
       "    </tr>\n",
       "  </tbody>\n",
       "</table>\n",
       "</div>"
      ],
      "text/plain": [
       "       Types                                               Text  \\\n",
       "0  Household  Paper Plane Design Framed Wall Hanging Motivat...   \n",
       "1  Household  SAF 'Floral' Framed Painting (Wood, 30 inch x ...   \n",
       "2  Household  SAF 'UV Textured Modern Art Print Framed' Pain...   \n",
       "3  Household  SAF Flower Print Framed Painting (Synthetic, 1...   \n",
       "4  Household  Incredible Gifts India Wooden Happy Birthday U...   \n",
       "\n",
       "                                          Clean_text  \n",
       "0  Paper Plane Design Framed Wall Hanging Motivat...  \n",
       "1  SAF 'Floral' Framed Painting Wood  inch x  inc...  \n",
       "2  SAF 'UV Textured Modern Art Print Framed' Pain...  \n",
       "3  SAF Flower Print Framed Painting Synthetic  in...  \n",
       "4  Incredible Gifts India Wooden Happy Birthday U...  "
      ]
     },
     "execution_count": 15,
     "metadata": {},
     "output_type": "execute_result"
    }
   ],
   "source": [
    "#removing emebbed links if any\n",
    "df['Clean_text'] = df['Clean_text'].replace(re.compile(r\"((www\\.[^\\s]+)|(https?://[^\\s]+)|(http?://[^\\s]+))\"), \"\")\n",
    "df.head()"
   ]
  },
  {
   "cell_type": "code",
   "execution_count": 16,
   "id": "6d681170",
   "metadata": {},
   "outputs": [
    {
     "data": {
      "text/html": [
       "<div>\n",
       "<style scoped>\n",
       "    .dataframe tbody tr th:only-of-type {\n",
       "        vertical-align: middle;\n",
       "    }\n",
       "\n",
       "    .dataframe tbody tr th {\n",
       "        vertical-align: top;\n",
       "    }\n",
       "\n",
       "    .dataframe thead th {\n",
       "        text-align: right;\n",
       "    }\n",
       "</style>\n",
       "<table border=\"1\" class=\"dataframe\">\n",
       "  <thead>\n",
       "    <tr style=\"text-align: right;\">\n",
       "      <th></th>\n",
       "      <th>Types</th>\n",
       "      <th>Text</th>\n",
       "      <th>Clean_text</th>\n",
       "    </tr>\n",
       "  </thead>\n",
       "  <tbody>\n",
       "    <tr>\n",
       "      <th>50420</th>\n",
       "      <td>Electronics</td>\n",
       "      <td>Strontium MicroSD Class 10 8GB Memory Card (Bl...</td>\n",
       "      <td>Strontium MicroSD Class  GB Memory Card Black ...</td>\n",
       "    </tr>\n",
       "    <tr>\n",
       "      <th>50421</th>\n",
       "      <td>Electronics</td>\n",
       "      <td>CrossBeats Wave Waterproof Bluetooth Wireless ...</td>\n",
       "      <td>CrossBeats Wave Waterproof Bluetooth Wireless ...</td>\n",
       "    </tr>\n",
       "    <tr>\n",
       "      <th>50422</th>\n",
       "      <td>Electronics</td>\n",
       "      <td>Karbonn Titanium Wind W4 (White) Karbonn Titan...</td>\n",
       "      <td>Karbonn Titanium WindWhite Karbonn Titanium Wi...</td>\n",
       "    </tr>\n",
       "    <tr>\n",
       "      <th>50423</th>\n",
       "      <td>Electronics</td>\n",
       "      <td>Samsung Guru FM Plus (SM-B110E/D, Black) Colou...</td>\n",
       "      <td>Samsung Guru FM Plus SMBED Black ColourBlackCo...</td>\n",
       "    </tr>\n",
       "    <tr>\n",
       "      <th>50424</th>\n",
       "      <td>Electronics</td>\n",
       "      <td>Micromax Canvas Win W121 (White)</td>\n",
       "      <td>Micromax Canvas WinWhite</td>\n",
       "    </tr>\n",
       "  </tbody>\n",
       "</table>\n",
       "</div>"
      ],
      "text/plain": [
       "             Types                                               Text  \\\n",
       "50420  Electronics  Strontium MicroSD Class 10 8GB Memory Card (Bl...   \n",
       "50421  Electronics  CrossBeats Wave Waterproof Bluetooth Wireless ...   \n",
       "50422  Electronics  Karbonn Titanium Wind W4 (White) Karbonn Titan...   \n",
       "50423  Electronics  Samsung Guru FM Plus (SM-B110E/D, Black) Colou...   \n",
       "50424  Electronics                   Micromax Canvas Win W121 (White)   \n",
       "\n",
       "                                              Clean_text  \n",
       "50420  Strontium MicroSD Class  GB Memory Card Black ...  \n",
       "50421  CrossBeats Wave Waterproof Bluetooth Wireless ...  \n",
       "50422  Karbonn Titanium WindWhite Karbonn Titanium Wi...  \n",
       "50423  Samsung Guru FM Plus SMBED Black ColourBlackCo...  \n",
       "50424                           Micromax Canvas WinWhite  "
      ]
     },
     "execution_count": 16,
     "metadata": {},
     "output_type": "execute_result"
    }
   ],
   "source": [
    "#removing single characters\n",
    "df['Clean_text'] = df['Clean_text'].replace(re.compile(r\"(^| ).( |$)\"), \"\")\n",
    "df.tail()"
   ]
  },
  {
   "cell_type": "code",
   "execution_count": 17,
   "id": "9011fa55",
   "metadata": {},
   "outputs": [
    {
     "data": {
      "text/plain": [
       "39804    Dell VAMPLaptop Adapter Without power Cord Des...\n",
       "39805    Bluetooth Dongle USB CSR  Adapter Receiver Tra...\n",
       "39806    WiFi Receiver Mbps GHz bgn USB  Wireless Mini ...\n",
       "39807    SanDisk GB Class  microSDXC Memory Card with A...\n",
       "39808    Gizga Essentials Laptop Power Cable Cord  Pin ...\n",
       "                               ...                        \n",
       "50420    Strontium MicroSD Class  GB Memory Card Black ...\n",
       "50421    CrossBeats Wave Waterproof Bluetooth Wireless ...\n",
       "50422    Karbonn Titanium WindWhite Karbonn Titanium Wi...\n",
       "50423    Samsung Guru FM Plus SMBED Black ColourBlackCo...\n",
       "50424                             Micromax Canvas WinWhite\n",
       "Name: Clean_text, Length: 10621, dtype: object"
      ]
     },
     "execution_count": 17,
     "metadata": {},
     "output_type": "execute_result"
    }
   ],
   "source": [
    "df[df.Types==\"Electronics\"].Clean_text"
   ]
  },
  {
   "cell_type": "code",
   "execution_count": 18,
   "id": "b6bb0eff",
   "metadata": {},
   "outputs": [
    {
     "data": {
      "text/html": [
       "<div>\n",
       "<style scoped>\n",
       "    .dataframe tbody tr th:only-of-type {\n",
       "        vertical-align: middle;\n",
       "    }\n",
       "\n",
       "    .dataframe tbody tr th {\n",
       "        vertical-align: top;\n",
       "    }\n",
       "\n",
       "    .dataframe thead th {\n",
       "        text-align: right;\n",
       "    }\n",
       "</style>\n",
       "<table border=\"1\" class=\"dataframe\">\n",
       "  <thead>\n",
       "    <tr style=\"text-align: right;\">\n",
       "      <th></th>\n",
       "      <th>Types</th>\n",
       "      <th>Text</th>\n",
       "      <th>Clean_text</th>\n",
       "    </tr>\n",
       "  </thead>\n",
       "  <tbody>\n",
       "    <tr>\n",
       "      <th>0</th>\n",
       "      <td>Household</td>\n",
       "      <td>Paper Plane Design Framed Wall Hanging Motivat...</td>\n",
       "      <td>[Paper, Plane, Design, Framed, Wall, Hanging, ...</td>\n",
       "    </tr>\n",
       "    <tr>\n",
       "      <th>1</th>\n",
       "      <td>Household</td>\n",
       "      <td>SAF 'Floral' Framed Painting (Wood, 30 inch x ...</td>\n",
       "      <td>[SAF, 'Floral', Framed, Painting, Wood, inch, ...</td>\n",
       "    </tr>\n",
       "    <tr>\n",
       "      <th>2</th>\n",
       "      <td>Household</td>\n",
       "      <td>SAF 'UV Textured Modern Art Print Framed' Pain...</td>\n",
       "      <td>[SAF, 'UV, Textured, Modern, Art, Print, Frame...</td>\n",
       "    </tr>\n",
       "    <tr>\n",
       "      <th>3</th>\n",
       "      <td>Household</td>\n",
       "      <td>SAF Flower Print Framed Painting (Synthetic, 1...</td>\n",
       "      <td>[SAF, Flower, Print, Framed, Painting, Synthet...</td>\n",
       "    </tr>\n",
       "    <tr>\n",
       "      <th>4</th>\n",
       "      <td>Household</td>\n",
       "      <td>Incredible Gifts India Wooden Happy Birthday U...</td>\n",
       "      <td>[Incredible, Gifts, India, Wooden, Happy, Birt...</td>\n",
       "    </tr>\n",
       "  </tbody>\n",
       "</table>\n",
       "</div>"
      ],
      "text/plain": [
       "       Types                                               Text  \\\n",
       "0  Household  Paper Plane Design Framed Wall Hanging Motivat...   \n",
       "1  Household  SAF 'Floral' Framed Painting (Wood, 30 inch x ...   \n",
       "2  Household  SAF 'UV Textured Modern Art Print Framed' Pain...   \n",
       "3  Household  SAF Flower Print Framed Painting (Synthetic, 1...   \n",
       "4  Household  Incredible Gifts India Wooden Happy Birthday U...   \n",
       "\n",
       "                                          Clean_text  \n",
       "0  [Paper, Plane, Design, Framed, Wall, Hanging, ...  \n",
       "1  [SAF, 'Floral', Framed, Painting, Wood, inch, ...  \n",
       "2  [SAF, 'UV, Textured, Modern, Art, Print, Frame...  \n",
       "3  [SAF, Flower, Print, Framed, Painting, Synthet...  \n",
       "4  [Incredible, Gifts, India, Wooden, Happy, Birt...  "
      ]
     },
     "execution_count": 18,
     "metadata": {},
     "output_type": "execute_result"
    }
   ],
   "source": [
    "#tokenizing\n",
    "df['Clean_text'] = df['Clean_text'].str.split()\n",
    "df['Clean_text'] = df['Clean_text'].apply(lambda text: [word for word in text if word not in STOPWORDS])\n",
    "df['Clean_text'] = df['Clean_text'].apply(lambda text: expand(text))\n",
    "df.head()"
   ]
  },
  {
   "cell_type": "code",
   "execution_count": 19,
   "id": "054f8247",
   "metadata": {},
   "outputs": [
    {
     "data": {
      "text/html": [
       "<div>\n",
       "<style scoped>\n",
       "    .dataframe tbody tr th:only-of-type {\n",
       "        vertical-align: middle;\n",
       "    }\n",
       "\n",
       "    .dataframe tbody tr th {\n",
       "        vertical-align: top;\n",
       "    }\n",
       "\n",
       "    .dataframe thead th {\n",
       "        text-align: right;\n",
       "    }\n",
       "</style>\n",
       "<table border=\"1\" class=\"dataframe\">\n",
       "  <thead>\n",
       "    <tr style=\"text-align: right;\">\n",
       "      <th></th>\n",
       "      <th>Types</th>\n",
       "      <th>Text</th>\n",
       "      <th>Clean_text</th>\n",
       "    </tr>\n",
       "  </thead>\n",
       "  <tbody>\n",
       "    <tr>\n",
       "      <th>0</th>\n",
       "      <td>Household</td>\n",
       "      <td>Paper Plane Design Framed Wall Hanging Motivat...</td>\n",
       "      <td>[paper, plane, design, frame, wall, hang, moti...</td>\n",
       "    </tr>\n",
       "    <tr>\n",
       "      <th>1</th>\n",
       "      <td>Household</td>\n",
       "      <td>SAF 'Floral' Framed Painting (Wood, 30 inch x ...</td>\n",
       "      <td>[saf, 'floral', frame, paint, wood, inch, inch...</td>\n",
       "    </tr>\n",
       "    <tr>\n",
       "      <th>2</th>\n",
       "      <td>Household</td>\n",
       "      <td>SAF 'UV Textured Modern Art Print Framed' Pain...</td>\n",
       "      <td>[saf, 'uv, textur, modern, art, print, framed'...</td>\n",
       "    </tr>\n",
       "    <tr>\n",
       "      <th>3</th>\n",
       "      <td>Household</td>\n",
       "      <td>SAF Flower Print Framed Painting (Synthetic, 1...</td>\n",
       "      <td>[saf, flower, print, frame, paint, synthet, in...</td>\n",
       "    </tr>\n",
       "    <tr>\n",
       "      <th>4</th>\n",
       "      <td>Household</td>\n",
       "      <td>Incredible Gifts India Wooden Happy Birthday U...</td>\n",
       "      <td>[incred, gift, india, wooden, happi, birthday,...</td>\n",
       "    </tr>\n",
       "  </tbody>\n",
       "</table>\n",
       "</div>"
      ],
      "text/plain": [
       "       Types                                               Text  \\\n",
       "0  Household  Paper Plane Design Framed Wall Hanging Motivat...   \n",
       "1  Household  SAF 'Floral' Framed Painting (Wood, 30 inch x ...   \n",
       "2  Household  SAF 'UV Textured Modern Art Print Framed' Pain...   \n",
       "3  Household  SAF Flower Print Framed Painting (Synthetic, 1...   \n",
       "4  Household  Incredible Gifts India Wooden Happy Birthday U...   \n",
       "\n",
       "                                          Clean_text  \n",
       "0  [paper, plane, design, frame, wall, hang, moti...  \n",
       "1  [saf, 'floral', frame, paint, wood, inch, inch...  \n",
       "2  [saf, 'uv, textur, modern, art, print, framed'...  \n",
       "3  [saf, flower, print, frame, paint, synthet, in...  \n",
       "4  [incred, gift, india, wooden, happi, birthday,...  "
      ]
     },
     "execution_count": 19,
     "metadata": {},
     "output_type": "execute_result"
    }
   ],
   "source": [
    "#Initialising word processing methods\n",
    "wordNetLemmatizer = WordNetLemmatizer()\n",
    "porterStemmer = PorterStemmer()\n",
    "\n",
    "df['Clean_text'] = df['Clean_text'].apply(lambda text: [wordNetLemmatizer.lemmatize(word) for word in text])\n",
    "df['Clean_text'] = df['Clean_text'].apply(lambda text: [porterStemmer.stem(word) for word in text])\n",
    "\n",
    "df.head()"
   ]
  },
  {
   "cell_type": "code",
   "execution_count": 20,
   "id": "237fa21b",
   "metadata": {},
   "outputs": [
    {
     "data": {
      "text/html": [
       "<div>\n",
       "<style scoped>\n",
       "    .dataframe tbody tr th:only-of-type {\n",
       "        vertical-align: middle;\n",
       "    }\n",
       "\n",
       "    .dataframe tbody tr th {\n",
       "        vertical-align: top;\n",
       "    }\n",
       "\n",
       "    .dataframe thead th {\n",
       "        text-align: right;\n",
       "    }\n",
       "</style>\n",
       "<table border=\"1\" class=\"dataframe\">\n",
       "  <thead>\n",
       "    <tr style=\"text-align: right;\">\n",
       "      <th></th>\n",
       "      <th>Types</th>\n",
       "      <th>Text</th>\n",
       "      <th>Clean_text</th>\n",
       "    </tr>\n",
       "  </thead>\n",
       "  <tbody>\n",
       "    <tr>\n",
       "      <th>0</th>\n",
       "      <td>Household</td>\n",
       "      <td>Paper Plane Design Framed Wall Hanging Motivat...</td>\n",
       "      <td>paper plane design frame wall hang motiv offic...</td>\n",
       "    </tr>\n",
       "    <tr>\n",
       "      <th>1</th>\n",
       "      <td>Household</td>\n",
       "      <td>SAF 'Floral' Framed Painting (Wood, 30 inch x ...</td>\n",
       "      <td>saf 'floral' frame paint wood inch inch specia...</td>\n",
       "    </tr>\n",
       "    <tr>\n",
       "      <th>2</th>\n",
       "      <td>Household</td>\n",
       "      <td>SAF 'UV Textured Modern Art Print Framed' Pain...</td>\n",
       "      <td>saf 'uv textur modern art print framed' paint ...</td>\n",
       "    </tr>\n",
       "    <tr>\n",
       "      <th>3</th>\n",
       "      <td>Household</td>\n",
       "      <td>SAF Flower Print Framed Painting (Synthetic, 1...</td>\n",
       "      <td>saf flower print frame paint synthet inch inch...</td>\n",
       "    </tr>\n",
       "    <tr>\n",
       "      <th>4</th>\n",
       "      <td>Household</td>\n",
       "      <td>Incredible Gifts India Wooden Happy Birthday U...</td>\n",
       "      <td>incred gift india wooden happi birthday uniqu ...</td>\n",
       "    </tr>\n",
       "  </tbody>\n",
       "</table>\n",
       "</div>"
      ],
      "text/plain": [
       "       Types                                               Text  \\\n",
       "0  Household  Paper Plane Design Framed Wall Hanging Motivat...   \n",
       "1  Household  SAF 'Floral' Framed Painting (Wood, 30 inch x ...   \n",
       "2  Household  SAF 'UV Textured Modern Art Print Framed' Pain...   \n",
       "3  Household  SAF Flower Print Framed Painting (Synthetic, 1...   \n",
       "4  Household  Incredible Gifts India Wooden Happy Birthday U...   \n",
       "\n",
       "                                          Clean_text  \n",
       "0  paper plane design frame wall hang motiv offic...  \n",
       "1  saf 'floral' frame paint wood inch inch specia...  \n",
       "2  saf 'uv textur modern art print framed' paint ...  \n",
       "3  saf flower print frame paint synthet inch inch...  \n",
       "4  incred gift india wooden happi birthday uniqu ...  "
      ]
     },
     "execution_count": 20,
     "metadata": {},
     "output_type": "execute_result"
    }
   ],
   "source": [
    "# combining words back to original\n",
    "df['Clean_text'] = df['Clean_text'].apply(lambda text: ' '.join(text))\n",
    "df.head()"
   ]
  },
  {
   "cell_type": "code",
   "execution_count": 21,
   "id": "c1fc87b6",
   "metadata": {},
   "outputs": [
    {
     "data": {
      "text/html": [
       "<div>\n",
       "<style scoped>\n",
       "    .dataframe tbody tr th:only-of-type {\n",
       "        vertical-align: middle;\n",
       "    }\n",
       "\n",
       "    .dataframe tbody tr th {\n",
       "        vertical-align: top;\n",
       "    }\n",
       "\n",
       "    .dataframe thead th {\n",
       "        text-align: right;\n",
       "    }\n",
       "</style>\n",
       "<table border=\"1\" class=\"dataframe\">\n",
       "  <thead>\n",
       "    <tr style=\"text-align: right;\">\n",
       "      <th></th>\n",
       "      <th>Types</th>\n",
       "      <th>Text</th>\n",
       "      <th>Clean_text</th>\n",
       "    </tr>\n",
       "  </thead>\n",
       "  <tbody>\n",
       "    <tr>\n",
       "      <th>50420</th>\n",
       "      <td>Electronics</td>\n",
       "      <td>Strontium MicroSD Class 10 8GB Memory Card (Bl...</td>\n",
       "      <td>strontium microsd class gb memori card black w...</td>\n",
       "    </tr>\n",
       "    <tr>\n",
       "      <th>50421</th>\n",
       "      <td>Electronics</td>\n",
       "      <td>CrossBeats Wave Waterproof Bluetooth Wireless ...</td>\n",
       "      <td>crossbeat wave waterproof bluetooth wireless e...</td>\n",
       "    </tr>\n",
       "    <tr>\n",
       "      <th>50422</th>\n",
       "      <td>Electronics</td>\n",
       "      <td>Karbonn Titanium Wind W4 (White) Karbonn Titan...</td>\n",
       "      <td>karbonn titanium windwhit karbonn titanium win...</td>\n",
       "    </tr>\n",
       "    <tr>\n",
       "      <th>50423</th>\n",
       "      <td>Electronics</td>\n",
       "      <td>Samsung Guru FM Plus (SM-B110E/D, Black) Colou...</td>\n",
       "      <td>samsung guru fm plu smbed black colourblackcom...</td>\n",
       "    </tr>\n",
       "    <tr>\n",
       "      <th>50424</th>\n",
       "      <td>Electronics</td>\n",
       "      <td>Micromax Canvas Win W121 (White)</td>\n",
       "      <td>micromax canva winwhit</td>\n",
       "    </tr>\n",
       "  </tbody>\n",
       "</table>\n",
       "</div>"
      ],
      "text/plain": [
       "             Types                                               Text  \\\n",
       "50420  Electronics  Strontium MicroSD Class 10 8GB Memory Card (Bl...   \n",
       "50421  Electronics  CrossBeats Wave Waterproof Bluetooth Wireless ...   \n",
       "50422  Electronics  Karbonn Titanium Wind W4 (White) Karbonn Titan...   \n",
       "50423  Electronics  Samsung Guru FM Plus (SM-B110E/D, Black) Colou...   \n",
       "50424  Electronics                   Micromax Canvas Win W121 (White)   \n",
       "\n",
       "                                              Clean_text  \n",
       "50420  strontium microsd class gb memori card black w...  \n",
       "50421  crossbeat wave waterproof bluetooth wireless e...  \n",
       "50422  karbonn titanium windwhit karbonn titanium win...  \n",
       "50423  samsung guru fm plu smbed black colourblackcom...  \n",
       "50424                             micromax canva winwhit  "
      ]
     },
     "execution_count": 21,
     "metadata": {},
     "output_type": "execute_result"
    }
   ],
   "source": [
    "df.tail()"
   ]
  },
  {
   "cell_type": "code",
   "execution_count": 22,
   "id": "2bc96770",
   "metadata": {},
   "outputs": [
    {
     "name": "stdout",
     "output_type": "stream",
     "text": [
      "       Types                                               Text  \\\n",
      "0  Household  Paper Plane Design Framed Wall Hanging Motivat...   \n",
      "1  Household  SAF 'Floral' Framed Painting (Wood, 30 inch x ...   \n",
      "2  Household  SAF 'UV Textured Modern Art Print Framed' Pain...   \n",
      "3  Household  SAF Flower Print Framed Painting (Synthetic, 1...   \n",
      "\n",
      "                                          Clean_text  \n",
      "0  paper plane design frame wall hang motiv offic...  \n",
      "1  saf 'floral' frame paint wood inch inch specia...  \n",
      "2  saf 'uv textur modern art print framed' paint ...  \n",
      "3  saf flower print frame paint synthet inch inch...   \n",
      "\n",
      "       Types                                               Text  \\\n",
      "19313  Books  Inner Engineering: A Yogi's Guide to Joy About...   \n",
      "19314  Books       Muslims and Missionaries in Pre-Mutiny India   \n",
      "19315  Books  The PCOD - Thyroid Book - Compiled From Women ...   \n",
      "19316  Books  The Monk Who Sold His Ferrari Review Everyone ...   \n",
      "\n",
      "                                              Clean_text  \n",
      "19313  inner engineeringyogi' guid joy about author s...  \n",
      "19314                  muslim missionari premutini india  \n",
      "19315  the pcod thyroid book compil from women weight...  \n",
      "19316  the monk who sold hi ferrari review everyon lo...   \n",
      "\n",
      "             Types                                               Text  \\\n",
      "39804  Electronics  Dell 19.5V-3.34AMP 65W Laptop Adapter (Without...   \n",
      "39805  Electronics  Bluetooth Dongle USB CSR 4.0 Adapter Receiver ...   \n",
      "39806  Electronics  Wi-Fi Receiver 300Mbps, 2.4GHz, 802.11b/g/n US...   \n",
      "39807  Electronics  SanDisk 64GB Class 10 microSDXC Memory Card wi...   \n",
      "\n",
      "                                              Clean_text  \n",
      "39804  dell vamplaptop adapt without power cord desig...  \n",
      "39805  bluetooth dongl usb csr adapt receiv transfer ...  \n",
      "39806  wifi receiv mbp ghz bgn usb wireless mini wifi...  \n",
      "39807  sandisk gb class microsdxc memori card adapt s...   \n",
      "\n",
      "                        Types  \\\n",
      "31133  Clothing & Accessories   \n",
      "31134  Clothing & Accessories   \n",
      "31135  Clothing & Accessories   \n",
      "31136  Clothing & Accessories   \n",
      "\n",
      "                                                    Text  \\\n",
      "31133  Woopower 36M Pink for 024M Baby Trouser Top Se...   \n",
      "31134  Amour Butterfly Design Sunglasses For Girls 6+...   \n",
      "31135  Vaenait Baby 024M Baby Girls Rashguard Swimwea...   \n",
      "31136  Amour Butterfly Design Sunglasses For Girls 6+...   \n",
      "\n",
      "                                              Clean_text  \n",
      "31133  woopowerpink forbabi trouser top setspc boy gi...  \n",
      "31134  amour butterfli design sunglass for girl year ...  \n",
      "31135  vaenait babybabi girl rashguard swimwear one p...  \n",
      "31136  amour butterfli design sunglass for girl year ...   \n",
      "\n"
     ]
    }
   ],
   "source": [
    "# Observing text rows from each type\n",
    "for i in types:\n",
    "    print(df[df[\"Types\"]==i].head(4),\"\\n\")"
   ]
  },
  {
   "cell_type": "code",
   "execution_count": 23,
   "id": "3b65c5ab",
   "metadata": {},
   "outputs": [],
   "source": [
    "#df.to_csv(\"data/clean_text.csv\",index=False)"
   ]
  },
  {
   "cell_type": "code",
   "execution_count": 26,
   "id": "423ed9ec",
   "metadata": {},
   "outputs": [],
   "source": [
    "train_data, test_data = train_test_split(df, train_size=0.9, stratify=df.Types, random_state=100)"
   ]
  },
  {
   "cell_type": "code",
   "execution_count": 27,
   "id": "05d2f087",
   "metadata": {},
   "outputs": [],
   "source": [
    "import tensorflow as tf\n",
    "\n",
    "# Train Data Labels\n",
    "train_data[\"Types\"]  = train_data[\"Types\"].astype('category')\n",
    "train_data[\"Type_Labels\"] = train_data[\"Types\"].cat.codes\n",
    "\n",
    "# OneHotEncoding target using tensorflow\n",
    "train_features, train_labels = train_data[\"Clean_text\"], tf.one_hot(train_data[\"Type_Labels\"], 4)\n",
    "\n",
    "# Test Data Labels\n",
    "test_data[\"Types\"]  = test_data[\"Types\"].astype('category')\n",
    "test_data[\"Type_Labels\"] = test_data[\"Types\"].cat.codes\n",
    "\n",
    "# OneHotEncoding target using tensorflow\n",
    "test_features, test_labels = test_data[\"Clean_text\"], tf.one_hot(test_data[\"Type_Labels\"], 4)"
   ]
  },
  {
   "cell_type": "code",
   "execution_count": 33,
   "id": "f32802e2",
   "metadata": {},
   "outputs": [],
   "source": [
    "#train_data.head()"
   ]
  },
  {
   "cell_type": "code",
   "execution_count": 34,
   "id": "046692c8",
   "metadata": {},
   "outputs": [],
   "source": [
    "#test_data.head()"
   ]
  },
  {
   "cell_type": "code",
   "execution_count": 32,
   "id": "266c928e",
   "metadata": {},
   "outputs": [],
   "source": [
    "# Tokenizing\n",
    "import nltk\n",
    "from nltk.tokenize import word_tokenize\n",
    "tokenized_train_features = [word_tokenize(each_train_text) for each_train_text in train_features]\n",
    "tokenized_test_features = [word_tokenize(each_test_text) for each_test_text in test_features]"
   ]
  },
  {
   "cell_type": "code",
   "execution_count": 35,
   "id": "878db781",
   "metadata": {},
   "outputs": [],
   "source": [
    "# Generating Word2vec model\n",
    "from gensim.models import word2vec\n",
    "\n",
    "#config\n",
    "vector_size = 300\n",
    "\n",
    "w2v_model = word2vec.Word2Vec(\n",
    "    tokenized_train_features,\n",
    "    vector_size=vector_size,  # Dimensionality of the word vectors\n",
    "    window=20,\n",
    "    min_count=1,\n",
    "    sg=1  # setting as 1 for skip-gram\n",
    ")"
   ]
  },
  {
   "cell_type": "code",
   "execution_count": 36,
   "id": "0afd6aa8",
   "metadata": {},
   "outputs": [],
   "source": [
    "# Fetching vocab list\n",
    "vocab_list = list(w2v_model.wv.key_to_index.keys())\n",
    "\n",
    "# Function for OOV(Out of Vocab) words\n",
    "def remove_OOV_vocab(sample: list, list_vocab):\n",
    "    \"\"\" Takes in tokenized sample in the form of list \n",
    "    and the vocabulary list and removes tokens from sample\n",
    "    that are not in the vocabulary list\"\"\"\n",
    "    in_vocab_sample = []\n",
    "    for each_token in sample:\n",
    "        if each_token in list_vocab:\n",
    "            in_vocab_sample.append(each_token)\n",
    "    return in_vocab_sample\n",
    "  \n",
    "tokenized_test_features = [remove_OOV_vocab(each_test_sample, vocab_list) for each_test_sample in tokenized_test_features]"
   ]
  },
  {
   "cell_type": "code",
   "execution_count": 39,
   "id": "9f1c36c3",
   "metadata": {},
   "outputs": [],
   "source": [
    "# Embedding matrix for embedding layer\n",
    "vocab = w2v_model.wv.key_to_index.keys()\n",
    "embedding_matrix = w2v_model.wv[vocab]"
   ]
  },
  {
   "cell_type": "code",
   "execution_count": 41,
   "id": "41b5e8cb",
   "metadata": {},
   "outputs": [
    {
     "data": {
      "text/plain": [
       "(115611, 300)"
      ]
     },
     "execution_count": 41,
     "metadata": {},
     "output_type": "execute_result"
    }
   ],
   "source": [
    "embedding_matrix.shape"
   ]
  },
  {
   "cell_type": "code",
   "execution_count": 52,
   "id": "7f7b65a5",
   "metadata": {},
   "outputs": [],
   "source": [
    "df[\"length\"] = df[\"Clean_text\"].apply(lambda x: len(x))"
   ]
  },
  {
   "cell_type": "code",
   "execution_count": 53,
   "id": "d7bd1ef4",
   "metadata": {},
   "outputs": [
    {
     "data": {
      "text/plain": [
       "count    50424.000000\n",
       "mean       484.392928\n",
       "std        625.507034\n",
       "min          2.000000\n",
       "25%        157.000000\n",
       "50%        337.000000\n",
       "75%        640.000000\n",
       "max      31620.000000\n",
       "Name: length, dtype: float64"
      ]
     },
     "execution_count": 53,
     "metadata": {},
     "output_type": "execute_result"
    }
   ],
   "source": [
    "df[\"length\"].describe()"
   ]
  },
  {
   "cell_type": "code",
   "execution_count": 60,
   "id": "d7076f3c",
   "metadata": {},
   "outputs": [],
   "source": [
    "# Chossing value between 50-75th percentile\n",
    "max_seq_len = 500"
   ]
  },
  {
   "cell_type": "code",
   "execution_count": 61,
   "id": "f687da45",
   "metadata": {},
   "outputs": [],
   "source": [
    "# Replacing the tokens with the index of the word in the word2vec vocabulary and padding\n",
    "from tensorflow.keras.preprocessing.sequence import pad_sequences\n",
    "\n",
    "def w2v_indexed_token_sequences(w2v_model, list_features):\n",
    "    indexed_features = []\n",
    "    for each_seq in list_features:\n",
    "        list_token_indices = []\n",
    "        for each_token in each_seq:\n",
    "            try:\n",
    "                list_token_indices.append(w2v_model.wv.key_to_index[each_token])\n",
    "            except KeyError as e:\n",
    "                continue\n",
    "        indexed_features.append(list_token_indices)\n",
    "    return indexed_features\n",
    "\n",
    "indexed_train_features = w2v_indexed_token_sequences(w2v_model, tokenized_train_features)\n",
    "indexed_test_features = w2v_indexed_token_sequences(w2v_model, tokenized_test_features)\n",
    "\n",
    "padded_train = pad_sequences(indexed_train_features, padding = 'post', maxlen=max_seq_len, truncating='post')\n",
    "padded_test = pad_sequences(indexed_test_features, padding = 'post', maxlen=max_seq_len, truncating='post')"
   ]
  },
  {
   "cell_type": "code",
   "execution_count": 68,
   "id": "9aa7b243",
   "metadata": {},
   "outputs": [
    {
     "data": {
      "text/plain": [
       "array([[  989, 19701, 63065, ...,     0,     0,     0],\n",
       "       [ 7561, 15501,   366, ...,     0,     0,     0],\n",
       "       [   61,   134,   104, ...,     0,     0,     0],\n",
       "       ...,\n",
       "       [ 4402,    72,     1, ...,     0,     0,     0],\n",
       "       [36741,  1205,  1950, ...,     0,     0,     0],\n",
       "       [ 7885, 13714,    72, ...,     0,     0,     0]])"
      ]
     },
     "execution_count": 68,
     "metadata": {},
     "output_type": "execute_result"
    }
   ],
   "source": [
    "padded_train"
   ]
  },
  {
   "cell_type": "code",
   "execution_count": 69,
   "id": "0323bf43",
   "metadata": {},
   "outputs": [
    {
     "data": {
      "text/plain": [
       "array([[ 1902,  5136,  1007, ...,     0,     0,     0],\n",
       "       [ 3585,  6048,  1494, ...,     0,     0,     0],\n",
       "       [ 7245,   280,    20, ...,     0,     0,     0],\n",
       "       ...,\n",
       "       [ 4264, 13514, 34955, ...,     0,     0,     0],\n",
       "       [ 5093,  4893, 14271, ...,     0,     0,     0],\n",
       "       [ 1827, 30862,    39, ...,     0,     0,     0]])"
      ]
     },
     "execution_count": 69,
     "metadata": {},
     "output_type": "execute_result"
    }
   ],
   "source": [
    "padded_test"
   ]
  },
  {
   "cell_type": "code",
   "execution_count": 70,
   "id": "06e2ff66",
   "metadata": {},
   "outputs": [
    {
     "name": "stdout",
     "output_type": "stream",
     "text": [
      "(45381, 500) ...... (5043, 500)\n"
     ]
    }
   ],
   "source": [
    "print(padded_train.shape,\"......\",padded_test.shape)"
   ]
  },
  {
   "cell_type": "code",
   "execution_count": 58,
   "id": "117aeaeb",
   "metadata": {},
   "outputs": [],
   "source": [
    "# Keras imports\n",
    "import tensorflow as tf\n",
    "import tensorflow.keras as keras\n",
    "from tensorflow.keras import Sequential\n",
    "from tensorflow.keras.layers import Dense, Embedding, Dropout, LSTM"
   ]
  },
  {
   "cell_type": "code",
   "execution_count": 66,
   "id": "7ddda195",
   "metadata": {},
   "outputs": [
    {
     "data": {
      "text/plain": [
       "115611"
      ]
     },
     "execution_count": 66,
     "metadata": {},
     "output_type": "execute_result"
    }
   ],
   "source": [
    "len(w2v_model.wv)"
   ]
  },
  {
   "cell_type": "code",
   "execution_count": 75,
   "id": "02d1cb88",
   "metadata": {},
   "outputs": [],
   "source": [
    "vocab_size = len(w2v_model.wv)\n",
    "\n",
    "def get_model():\n",
    "    model = Sequential()\n",
    "    model.add(\n",
    "        Embedding(input_dim=vocab_size,\n",
    "                  output_dim=vector_size,\n",
    "                  weights=[embedding_matrix],\n",
    "                  input_length=max_seq_len))\n",
    "    model.add(Dropout(0.4))\n",
    "    model.add(LSTM(max_seq_len,return_sequences=True))\n",
    "    model.add(LSTM(4))\n",
    "    model.add(Dense(4,activation='softmax'))\n",
    "    return model"
   ]
  },
  {
   "cell_type": "code",
   "execution_count": 76,
   "id": "427ad979",
   "metadata": {},
   "outputs": [],
   "source": [
    "# Adding callbacks for best model checkpoint\n",
    "callbacks = [\n",
    "    keras.callbacks.EarlyStopping(monitor=\"val_loss\",\n",
    "                                  patience=2,\n",
    "                                  verbose=1,\n",
    "                                  restore_best_weights=True),\n",
    "    keras.callbacks.ModelCheckpoint(filepath='models/lstm_with_w2v.hdf5',\n",
    "                                    verbose=1,\n",
    "                                    save_best_only=True)\n",
    "]"
   ]
  },
  {
   "cell_type": "code",
   "execution_count": 77,
   "id": "50d78b61",
   "metadata": {},
   "outputs": [],
   "source": [
    "# Compiling\n",
    "model = get_model()\n",
    "model.compile(optimizer='adam',loss='categorical_crossentropy',metrics=['accuracy'])\n",
    "tf.config.run_functions_eagerly(True)"
   ]
  },
  {
   "cell_type": "code",
   "execution_count": null,
   "id": "72e9e23f",
   "metadata": {},
   "outputs": [],
   "source": [
    "history = model.fit(padded_train, \n",
    "                    train_labels,\n",
    "                    validation_split=0.33,\n",
    "                    callbacks=callbacks,\n",
    "                    epochs=2)"
   ]
  },
  {
   "cell_type": "code",
   "execution_count": null,
   "id": "82742e45",
   "metadata": {},
   "outputs": [],
   "source": [
    "model_with_w2v = keras.models.load_model('data/lstm_with_w2v.hdf5')"
   ]
  },
  {
   "cell_type": "code",
   "execution_count": null,
   "id": "f72fe7a7",
   "metadata": {},
   "outputs": [],
   "source": [
    "y_pred_one_hot_encoded = (model_with_w2v.predict(padded_train)> 0.5).astype(\"int32\")\n",
    "\n",
    "# Output:\n",
    "# array([[0, 0, 0, 0, 1, 0],\n",
    "#        [0, 0, 0, 0, 1, 0],\n",
    "#        [1, 0, 0, 0, 0, 0],\n",
    "#        ...,\n",
    "#        [0, 0, 1, 0, 0, 0],\n",
    "#        [1, 0, 0, 0, 0, 0],\n",
    "#        [0, 0, 0, 0, 1, 0]])\n",
    "\n",
    "# Decode the one-hot encoded predictions\n",
    "y_pred_train = np.array(tf.argmax(y_pred_one_hot_encoded, axis=1))"
   ]
  },
  {
   "cell_type": "code",
   "execution_count": null,
   "id": "7b1ce458",
   "metadata": {},
   "outputs": [],
   "source": [
    "y_pred_one_hot_encoded = (model_with_w2v.predict(padded_test)> 0.5).astype(\"int32\")\n",
    "y_pred_test = np.array(tf.argmax(y_pred_one_hot_encoded, axis=1)"
   ]
  },
  {
   "cell_type": "code",
   "execution_count": null,
   "id": "e032a230",
   "metadata": {},
   "outputs": [],
   "source": [
    "from sklearn.metrics import classification_report\n",
    "# Training set\n",
    "print(classification_report(train_data['emotion_label'], y_pred_train))\n",
    "\n",
    "# Test Set\n",
    "print(classification_report(train_data['emotion_label'], y_pred_test))"
   ]
  },
  {
   "cell_type": "code",
   "execution_count": null,
   "id": "e4266af5",
   "metadata": {},
   "outputs": [],
   "source": []
  }
 ],
 "metadata": {
  "kernelspec": {
   "display_name": "Python 3 (ipykernel)",
   "language": "python",
   "name": "python3"
  },
  "language_info": {
   "codemirror_mode": {
    "name": "ipython",
    "version": 3
   },
   "file_extension": ".py",
   "mimetype": "text/x-python",
   "name": "python",
   "nbconvert_exporter": "python",
   "pygments_lexer": "ipython3",
   "version": "3.9.12"
  }
 },
 "nbformat": 4,
 "nbformat_minor": 5
}
